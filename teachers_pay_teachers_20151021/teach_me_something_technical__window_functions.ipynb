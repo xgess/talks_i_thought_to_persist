{
 "cells": [
  {
   "cell_type": "markdown",
   "metadata": {},
   "source": [
    "<br><br><br><br><br><br><br><br>\n",
    "# window functions in postgres: they can show you things\n",
    "<br><br><br><br><br><br><br><br><br><br><br><br><br><br><br><br>\n",
    "<br><br><br><br><br><br><br><br>"
   ]
  },
  {
   "cell_type": "markdown",
   "metadata": {},
   "source": [
    "<img src=\"http://blob.devolutions.net/images/Sysadminotaur/Live-Demo-Remote-Desktop-Manager-Maurice.png\">"
   ]
  },
  {
   "cell_type": "code",
   "execution_count": null,
   "metadata": {
    "collapsed": false
   },
   "outputs": [],
   "source": [
    "import pandas as pd\n",
    "from sqlalchemy import create_engine\n",
    "db_engine = create_engine('postgres://localhost:5432/funzies')\n",
    "\n",
    "RAW_TABLE_NAME = 'v0_cannabis_prices'\n",
    "VIEW_NAME = 'cannabis_prices_view'\n",
    "CSV_URL='http://blog.yhathq.com/static/misc/data/marijuana-street-price-clean.csv'"
   ]
  },
  {
   "cell_type": "code",
   "execution_count": null,
   "metadata": {
    "collapsed": false
   },
   "outputs": [],
   "source": [
    "prices_df = pd.read_csv(CSV_URL, parse_dates=[7])\n",
    "prices_df.drop(prices_df.columns[[2,3,4,5,6]], axis=1, inplace=True)\n",
    "prices_df.columns = ['state', 'high_quality_price', 'recorded_at']\n",
    "\n",
    "prices_df.to_sql(RAW_TABLE_NAME, db_engine, if_exists='replace', index=False)"
   ]
  },
  {
   "cell_type": "code",
   "execution_count": null,
   "metadata": {
    "collapsed": true
   },
   "outputs": [],
   "source": [
    "def show_me_some_data(query, limit=10):\n",
    "    df = pd.read_sql(query, db_engine)\n",
    "    return df.head(limit)\n",
    "\n",
    "\n",
    "def create_view(query, view_name=VIEW_NAME):\n",
    "    create_view_query = \"\"\"\n",
    "        DROP MATERIALIZED VIEW IF EXISTS %(view_name)s; \n",
    "        CREATE MATERIALIZED VIEW %(view_name)s AS %(query)s;\"\"\" % {'view_name': view_name, 'query': query}\n",
    "    db_engine.connect().execute(create_view_query)\n",
    "\n",
    "    \n",
    "def show_me_whats_in_the_view(view_name=VIEW_NAME, limit=10):\n",
    "    return show_me_some_data(\"select * from %(view_name)s\" % {'view_name': view_name}, limit)\n",
    "    "
   ]
  },
  {
   "cell_type": "markdown",
   "metadata": {},
   "source": [
    "## see it in action\n",
    "\n",
    "\n"
   ]
  },
  {
   "cell_type": "code",
   "execution_count": null,
   "metadata": {
    "collapsed": false
   },
   "outputs": [],
   "source": [
    "create_view(\"\"\"\n",
    "    SELECT state\n",
    "        , recorded_at\n",
    "        , high_quality_price\n",
    "    FROM %(RAW_TABLE_NAME)s \n",
    "    WHERE state in ('New York', 'New Jersey', 'Pennsylvania', 'Delaware', 'Colorado')\n",
    "    AND recorded_at >= '2015-06-07'\n",
    "    ORDER BY state\n",
    "\"\"\" % locals())\n",
    "\n",
    "\n",
    "show_me_whats_in_the_view(limit=40)"
   ]
  },
  {
   "cell_type": "markdown",
   "metadata": {},
   "source": [
    "<br><br><br><br><br><br><br><br><br><br><br><br>\n",
    "# cool, so window functions!\n",
    "\n",
    "<br><br><br><br><br><br><br><br><br><br><br><br>\n"
   ]
  },
  {
   "cell_type": "markdown",
   "metadata": {},
   "source": [
    "# ranking things"
   ]
  },
  {
   "cell_type": "code",
   "execution_count": null,
   "metadata": {
    "collapsed": false
   },
   "outputs": [],
   "source": [
    "create_view(\"\"\"\n",
    "    SELECT state\n",
    "        , recorded_at\n",
    "        , high_quality_price\n",
    "        \n",
    "        , ROW_NUMBER() OVER (\n",
    "            PARTITION BY state ORDER BY high_quality_price\n",
    "            ) rank_of_cheapest_day_in_the_state\n",
    "        \n",
    "        , ROW_NUMBER() OVER (\n",
    "            PARTITION BY recorded_at ORDER BY high_quality_price\n",
    "            ) rank_of_cheapest_state_each_day\n",
    "\n",
    "    FROM %(RAW_TABLE_NAME)s \n",
    "    WHERE state in ('New York', 'New Jersey', 'Pennsylvania', 'Delaware', 'Colorado')\n",
    "    AND recorded_at >= '2015-06-07'\n",
    "    ORDER BY state\n",
    "\"\"\" % locals())\n",
    "\n",
    "\n",
    "show_me_whats_in_the_view(limit=40)"
   ]
  },
  {
   "cell_type": "markdown",
   "metadata": {},
   "source": [
    "# comparing each row with the min and the argmin"
   ]
  },
  {
   "cell_type": "code",
   "execution_count": null,
   "metadata": {
    "collapsed": false
   },
   "outputs": [],
   "source": [
    "create_view(\"\"\"\n",
    "    SELECT state\n",
    "        , recorded_at\n",
    "        , high_quality_price\n",
    "\n",
    "\n",
    "        , FIRST_VALUE(high_quality_price) OVER (\n",
    "            PARTITION BY state ORDER BY high_quality_price\n",
    "            ROWS BETWEEN UNBOUNDED PRECEDING AND UNBOUNDED FOLLOWING\n",
    "          ) cheapest_price_in_the_state\n",
    "\n",
    "\n",
    "        , FIRST_VALUE(recorded_at) OVER (\n",
    "            PARTITION BY state ORDER BY high_quality_price\n",
    "            ROWS BETWEEN UNBOUNDED PRECEDING AND UNBOUNDED FOLLOWING\n",
    "          ) date_of_cheapest_price_in_the_state\n",
    "\n",
    "\n",
    "\n",
    "    FROM %(RAW_TABLE_NAME)s \n",
    "    WHERE state in ('New York', 'New Jersey')\n",
    "    AND recorded_at >= '2015-06-01'\n",
    "    ORDER BY state\n",
    "\"\"\" % locals())\n",
    "\n",
    "\n",
    "show_me_whats_in_the_view(limit=40)\n",
    "\n"
   ]
  },
  {
   "cell_type": "markdown",
   "metadata": {},
   "source": [
    "# yesterday and tomorrow"
   ]
  },
  {
   "cell_type": "code",
   "execution_count": null,
   "metadata": {
    "collapsed": false
   },
   "outputs": [],
   "source": [
    "create_view(\"\"\"\n",
    "    SELECT state\n",
    "        , recorded_at\n",
    "        , high_quality_price\n",
    "\n",
    "\n",
    "        , LAG(high_quality_price) OVER (\n",
    "            PARTITION BY state ORDER BY recorded_at\n",
    "          ) price_yesterday\n",
    "\n",
    "\n",
    "        , LEAD(high_quality_price) OVER (\n",
    "            PARTITION BY state ORDER BY recorded_at\n",
    "          ) price_tomorrow\n",
    "\n",
    "\n",
    "    FROM %(RAW_TABLE_NAME)s \n",
    "    WHERE state in ('New York', 'New Jersey')\n",
    "    AND recorded_at >= '2015-06-01'\n",
    "    ORDER BY state\n",
    "\"\"\" % locals())\n",
    "\n",
    "\n",
    "show_me_whats_in_the_view(limit=40)\n",
    "\n"
   ]
  },
  {
   "cell_type": "markdown",
   "metadata": {},
   "source": [
    "# one of my faves: ntile"
   ]
  },
  {
   "cell_type": "code",
   "execution_count": null,
   "metadata": {
    "collapsed": false
   },
   "outputs": [],
   "source": [
    "\n",
    "# let's scope down to just one state and add an extra month of prices\n",
    "\n",
    "create_view(\"\"\"\n",
    "    SELECT state\n",
    "        , recorded_at\n",
    "        , high_quality_price\n",
    "\n",
    "\n",
    "        , NTILE(4) OVER w price_date_quartile\n",
    "        , NTILE(10) OVER w price_date_decile\n",
    "\n",
    "\n",
    "    FROM %(RAW_TABLE_NAME)s \n",
    "    WHERE state in ('New York')\n",
    "    AND recorded_at >= '2015-05-01'\n",
    "    WINDOW w AS (PARTITION BY state ORDER BY high_quality_price)\n",
    "    ORDER BY recorded_at\n",
    "\"\"\" % locals())\n",
    "\n",
    "\n",
    "show_me_whats_in_the_view(limit=40)\n"
   ]
  },
  {
   "cell_type": "markdown",
   "metadata": {},
   "source": [
    "# window functions vs group-by / distinct-on"
   ]
  },
  {
   "cell_type": "code",
   "execution_count": null,
   "metadata": {
    "collapsed": false
   },
   "outputs": [],
   "source": [
    "# group by for cheapest price in the state\n",
    "\n",
    "create_view(\"\"\"\n",
    "    SELECT state\n",
    "    \n",
    "        , MIN(high_quality_price) cheapest_price_in_the_state\n",
    "    \n",
    "    FROM %(RAW_TABLE_NAME)s \n",
    "    WHERE state in ('New York', 'New Jersey')\n",
    "    AND recorded_at >= '2015-06-01'\n",
    "    GROUP BY state\n",
    "    ORDER BY state\n",
    "\"\"\" % locals())\n",
    "\n",
    "show_me_whats_in_the_view(limit=40)\n",
    "\n",
    "\n"
   ]
  },
  {
   "cell_type": "code",
   "execution_count": null,
   "metadata": {
    "collapsed": false
   },
   "outputs": [],
   "source": [
    "# distinct on for cheapest price in the state AND the arg min date\n",
    "\n",
    "create_view(\"\"\"\n",
    "    SELECT distinct on (state) state\n",
    "        , high_quality_price as cheapest_price_in_the_state\n",
    "        , recorded_at as date_of_cheapest_price\n",
    "    FROM %(RAW_TABLE_NAME)s \n",
    "    WHERE state in ('New York', 'New Jersey')\n",
    "    AND recorded_at >= '2015-06-01'\n",
    "    ORDER BY state, high_quality_price asc\n",
    "\"\"\" % locals())\n",
    "show_me_whats_in_the_view(limit=40)\n",
    "\n"
   ]
  },
  {
   "cell_type": "markdown",
   "metadata": {},
   "source": [
    "# cardinality:\n",
    "# the number of elements in a set or other grouping, as a property of that grouping.\n",
    "\n",
    "<img src='http://support.prometheanplanet.com/upload/img_400/Counting-375x294.jpg'>\n"
   ]
  },
  {
   "cell_type": "markdown",
   "metadata": {},
   "source": [
    "<h1>list of all available window functions in postgres\n",
    "\n",
    "<h2>\n",
    "* row_number()\n",
    "* rank()\n",
    "* dense_rank()\n",
    "* percent_rank()\n",
    "* cume_dist()\n",
    "* ntile(num_buckets integer)\n",
    "* lag(value)\n",
    "* lead(value)\n",
    "* first_value(value)\n",
    "* last_value(value)\n",
    "* nth_value(value, nth integer)\n",
    "\n",
    "<h3> if you're really smart, you can probably write your own. other people have done it. so what are you waiting for?\n"
   ]
  },
  {
   "cell_type": "markdown",
   "metadata": {},
   "source": [
    "<br><br><br>\n",
    "# when to consider window functions\n",
    "-------------------------------------------------------------\n",
    "<h1>\n",
    "* you want to enrich data, not necessarily answer a question\n",
    "* particularly powerful with time series data\n",
    "* you don't have access to `:distinct on:` but still want to do ARGMIN behavior (e.g. redshift)\n",
    "* ranking\n",
    "* filling in missing data with previous or future numbers\n",
    "<br><br><br>\n",
    "<br><br><br>\n"
   ]
  },
  {
   "cell_type": "code",
   "execution_count": null,
   "metadata": {
    "collapsed": false
   },
   "outputs": [],
   "source": []
  },
  {
   "cell_type": "code",
   "execution_count": null,
   "metadata": {
    "collapsed": true
   },
   "outputs": [],
   "source": []
  },
  {
   "cell_type": "code",
   "execution_count": null,
   "metadata": {
    "collapsed": false
   },
   "outputs": [],
   "source": []
  }
 ],
 "metadata": {
  "kernelspec": {
   "display_name": "Python 3",
   "language": "python",
   "name": "python3"
  },
  "language_info": {
   "codemirror_mode": {
    "name": "ipython",
    "version": 3
   },
   "file_extension": ".py",
   "mimetype": "text/x-python",
   "name": "python",
   "nbconvert_exporter": "python",
   "pygments_lexer": "ipython3",
   "version": "3.4.2"
  }
 },
 "nbformat": 4,
 "nbformat_minor": 0
}
